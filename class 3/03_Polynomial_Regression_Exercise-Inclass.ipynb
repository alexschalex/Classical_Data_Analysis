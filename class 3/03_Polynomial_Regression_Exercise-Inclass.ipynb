{
 "cells": [
  {
   "cell_type": "markdown",
   "metadata": {},
   "source": [
    "# Polynomial Regression"
   ]
  },
  {
   "cell_type": "markdown",
   "metadata": {},
   "source": [
    "## Limitations of linear regression\n",
    "\n",
    "Linear regression requires the relation between the dependent variable and the independent variable to be linear. What if the distribution of the data was more complex as shown in the below figure? Can linear models be used to fit non-linear data? \n",
    "\n",
    "<img src=\"https://miro.medium.com/max/1280/1*ELey2wytlZvKYFLbLbhCoA.png\">\n",
    "\n",
    "How can we generate a curve that best captures this kind of data?\n",
    "\n",
    "To understand the need for polynomial regression, let’s generate some random dataset first."
   ]
  },
  {
   "cell_type": "code",
   "execution_count": 1,
   "metadata": {},
   "outputs": [
    {
     "data": {
      "image/png": "[encoded data removed]",
      "text/plain": [
       "<Figure size 432x288 with 1 Axes>"
      ]
     },
     "metadata": {
      "needs_background": "light"
     },
     "output_type": "display_data"
    }
   ],
   "source": [
    "%matplotlib inline\n",
    "import numpy as np\n",
    "import matplotlib.pyplot as plt\n",
    "\n",
    "np.random.seed(0)\n",
    "x = 2 - 3 * np.random.normal(0, 1, 20)\n",
    "y = x - 2 * (x ** 2) + 0.5 * (x ** 3) + np.random.normal(-3, 3, 20)\n",
    "plt.scatter(x,y, s=10)\n",
    "plt.show()"
   ]
  },
  {
   "cell_type": "markdown",
   "metadata": {},
   "source": [
    "Now you should apply a linear model to this data, use the ```LinearRegression``` method from ```sklearn``` and plot the result. Remember that in order to use the ```.fit()``` method you need to add a new axis to x and y"
   ]
  },
  {
   "cell_type": "code",
   "execution_count": 15,
   "metadata": {},
   "outputs": [
    {
     "data": {
      "text/plain": [
       "LinearRegression(copy_X=True, fit_intercept=True, n_jobs=None, normalize=False)"
      ]
     },
     "execution_count": 15,
     "metadata": {},
     "output_type": "execute_result"
    }
   ],
   "source": [
    "from sklearn.linear_model import LinearRegression\n",
    "\n",
    "np.random.seed(0)\n",
    "x = 2 - 3 * np.random.normal(0, 1, 20)\n",
    "y = x - 2 * (x ** 2) + 0.5 * (x ** 3) + np.random.normal(-3, 3, 20)\n",
    "\n",
    "# transforming the data to include another axis\n",
    "x = x[:, np.newaxis]\n",
    "y = y[:, np.newaxis]\n",
    "\n",
    "\n",
    "#PUT YOUR CODE HERE\n",
    "from sklearn.model_selection import train_test_split\n",
    "\n",
    "#X_train,X_test,y_train,y_test=train_test_split(x,y,test_size=.25,random_state=0)\n",
    "\n",
    "linemodel=LinearRegression()\n",
    "linemodel.fit(x,y)\n"
   ]
  },
  {
   "cell_type": "markdown",
   "metadata": {},
   "source": [
    "Does the linear model really capture the variability of the data? This is called *under-fitting*. This term is used when the model used to fit the data is too simple to really capture all the complexity of the data. To have a more quantitative measure of this under-fitting, compute the $R²$ and Root Mean Squared Error of the fit."
   ]
  },
  {
   "cell_type": "code",
   "execution_count": 18,
   "metadata": {},
   "outputs": [
    {
     "name": "stdout",
     "output_type": "stream",
     "text": [
      "R2 for this prediction is: 0.64\n",
      "rmse for this prediction is: 15.91\n"
     ]
    }
   ],
   "source": [
    "from sklearn.metrics import r2_score\n",
    "from sklearn.metrics import mean_squared_error as mse\n",
    "\n",
    "y_predict=linemodel.predict(x)\n",
    "\n",
    "print('R2 for this prediction is: {:.2f}'.format(r2_score(y,y_predict)))\n",
    "print('rmse for this prediction is: {:.2f}'.format(np.sqrt(mse(y,y_predict))))\n",
    "\n",
    "\n",
    "#PUT YOUR CODE HERE"
   ]
  },
  {
   "cell_type": "markdown",
   "metadata": {},
   "source": [
    "A pretty straight-forward way to add complexity to this model, is to add powers of the original features as new features. In this manner, the lineal model:\n",
    "\n",
    "$$y=\\theta_0+ \\theta_1x$$ \n",
    "\n",
    "derives to,\n",
    "\n",
    "$$y=\\theta_0+ \\theta_1x + \\theta_2x²$$ \n",
    "\n",
    "Now the beauty of this trick, is that you are still training a linear model. Which means you can still use the same algorithms to train it, but the curve that this will generate is actually quadratic."
   ]
  },
  {
   "cell_type": "markdown",
   "metadata": {},
   "source": [
    "To convert the original features into their higher order terms we will use the ```PolynomialFeatures``` class provided by ```scikit-learn```. And then we will use the same method to fit the curve and print the $R²$ and RMSE values, how do they compare to the previous case?. Do not plot the results just yet!"
   ]
  },
  {
   "cell_type": "code",
   "execution_count": 20,
   "metadata": {},
   "outputs": [
    {
     "name": "stdout",
     "output_type": "stream",
     "text": [
      "R2 for this prediction is: 0.85\n",
      "rmse for this prediction is: 10.12\n"
     ]
    }
   ],
   "source": [
    "from sklearn.preprocessing import PolynomialFeatures\n",
    "import operator\n",
    "\n",
    "np.random.seed(0)\n",
    "x = 2 - 3 * np.random.normal(0, 1, 20)\n",
    "y = x - 2 * (x ** 2) + 0.5 * (x ** 3) + np.random.normal(-3, 3, 20)\n",
    "\n",
    "# transforming the data to include another axis\n",
    "x = x[:, np.newaxis]\n",
    "y = y[:, np.newaxis]\n",
    "\n",
    "poly=PolynomialFeatures(2)#PUT YOUR CODE HERE\n",
    "x_poly = poly.fit_transform(x)#PUT YOUR CODE HERE\n",
    "\n",
    "model = LinearRegression()#PUT YOUR CODE HERE\n",
    "model.fit(x_poly,y)#PUT PARAMETERS CODE HERE)\n",
    "    \n",
    "# COMPUTE PREDICTIONS\n",
    "y_poly_pred_2 = model.predict(x_poly)#PUT YOUR CODE HERE\n",
    "\n",
    "print('R2 for this prediction is: {:.2f}'.format(r2_score(y,y_poly_pred_2)))\n",
    "print('rmse for this prediction is: {:.2f}'.format(np.sqrt(mse(y,y_poly_pred_2))))\n",
    "\n",
    "#PUT YOUR CODE HERE TO COMPUTE METRICS"
   ]
  },
  {
   "cell_type": "code",
   "execution_count": 21,
   "metadata": {},
   "outputs": [
    {
     "data": {
      "text/plain": [
       "array([[ 1.        , -3.29215704, 10.83829796],\n",
       "       [ 1.        ,  0.79952837,  0.63924562],\n",
       "       [ 1.        , -0.93621395,  0.87649656],\n",
       "       [ 1.        , -4.7226796 , 22.30370258],\n",
       "       [ 1.        , -3.60267397, 12.97925974],\n",
       "       [ 1.        ,  4.93183364, 24.32298305],\n",
       "       [ 1.        , -0.85026525,  0.722951  ],\n",
       "       [ 1.        ,  2.45407162,  6.02246754],\n",
       "       [ 1.        ,  2.30965656,  5.3345134 ],\n",
       "       [ 1.        ,  0.76820449,  0.59013814]])"
      ]
     },
     "execution_count": 21,
     "metadata": {},
     "output_type": "execute_result"
    }
   ],
   "source": [
    "\n",
    "x_poly[0:10,]\n",
    "####### Notice in the third column we have the term x^2"
   ]
  },
  {
   "cell_type": "code",
   "execution_count": 22,
   "metadata": {},
   "outputs": [
    {
     "data": {
      "image/png": "[encoded data removed]",
      "text/plain": [
       "<Figure size 432x288 with 1 Axes>"
      ]
     },
     "metadata": {
      "needs_background": "light"
     },
     "output_type": "display_data"
    }
   ],
   "source": [
    "plt.scatter(x, y, s=10)\n",
    "# sort the values of x before line plot\n",
    "sort_axis = operator.itemgetter(0)\n",
    "sorted_zip = sorted(zip(x,y_poly_pred_2), key=sort_axis)\n",
    "x, y_poly_pred_2 = zip(*sorted_zip)\n",
    "plt.plot(x, y_poly_pred_2, color='m')\n",
    "plt.show()"
   ]
  },
  {
   "cell_type": "markdown",
   "metadata": {},
   "source": [
    "Now try to see what happens if the we fit a polynomial of degree 3. What are the $R²$, and the RMSE? "
   ]
  },
  {
   "cell_type": "code",
   "execution_count": 27,
   "metadata": {},
   "outputs": [
    {
     "name": "stdout",
     "output_type": "stream",
     "text": [
      "R2 for this prediction is: 0.98\n",
      "rmse for this prediction is: 3.45\n"
     ]
    }
   ],
   "source": [
    "from sklearn.preprocessing import PolynomialFeatures\n",
    "import operator\n",
    "\n",
    "np.random.seed(0)\n",
    "x = 2 - 3 * np.random.normal(0, 1, 20)\n",
    "y = x - 2 * (x ** 2) + 0.5 * (x ** 3) + np.random.normal(-3, 3, 20)\n",
    "\n",
    "# transforming the data to include another axis\n",
    "x = x[:, np.newaxis]\n",
    "y = y[:, np.newaxis]\n",
    "\n",
    "poly=PolynomialFeatures(3)#PUT YOUR CODE HERE\n",
    "x_poly = poly.fit_transform(x)#PUT YOUR CODE HERE\n",
    "\n",
    "model = LinearRegression()#PUT YOUR CODE HERE\n",
    "model.fit(x_poly,y)#PUT PARAMETERS CODE HERE)\n",
    "    \n",
    "# COMPUTE PREDICTIONS\n",
    "y_poly_pred_3 = model.predict(x_poly)#PUT YOUR CODE HERE\n",
    "\n",
    "print('R2 for this prediction is: {:.2f}'.format(r2_score(y,y_poly_pred_3)))\n",
    "print('rmse for this prediction is: {:.2f}'.format(np.sqrt(mse(y,y_poly_pred_3))))\n",
    "\n",
    "#PUT YOUR CODE HERE\n",
    "\n"
   ]
  },
  {
   "cell_type": "code",
   "execution_count": 26,
   "metadata": {},
   "outputs": [
    {
     "data": {
      "image/png": "[encoded data removed]",
      "text/plain": [
       "<Figure size 432x288 with 1 Axes>"
      ]
     },
     "metadata": {
      "needs_background": "light"
     },
     "output_type": "display_data"
    }
   ],
   "source": [
    "plt.scatter(x, y, s=10)\n",
    "# sort the values of x before line plot\n",
    "sort_axis = operator.itemgetter(0)\n",
    "sorted_zip = sorted(zip(x,y_poly_pred_3), key=sort_axis)\n",
    "x, y_poly_pred_3 = zip(*sorted_zip)\n",
    "plt.plot(x, y_poly_pred_3, color='m')\n",
    "plt.show()"
   ]
  },
  {
   "cell_type": "markdown",
   "metadata": {},
   "source": [
    "Now fit a model of degree 20, how do RMSE and $R²$ behave. Create a plot with the three fits overlaped. Do you think this is the model that better explains the data? Why?"
   ]
  },
  {
   "cell_type": "code",
   "execution_count": 28,
   "metadata": {},
   "outputs": [
    {
     "name": "stdout",
     "output_type": "stream",
     "text": [
      "R2 for this prediction is: 1.00\n",
      "rmse for this prediction is: 1.11\n"
     ]
    }
   ],
   "source": [
    "from sklearn.preprocessing import PolynomialFeatures\n",
    "import operator\n",
    "\n",
    "np.random.seed(0)\n",
    "x = 2 - 3 * np.random.normal(0, 1, 20)\n",
    "y = x - 2 * (x ** 2) + 0.5 * (x ** 3) + np.random.normal(-3, 3, 20)\n",
    "\n",
    "# transforming the data to include another axis\n",
    "x = x[:, np.newaxis]\n",
    "y = y[:, np.newaxis]\n",
    "\n",
    "#PUT YOUR CODE HERE\n",
    "poly=PolynomialFeatures(20)#PUT YOUR CODE HERE\n",
    "x_poly = poly.fit_transform(x)#PUT YOUR CODE HERE\n",
    "\n",
    "model = LinearRegression()#PUT YOUR CODE HERE\n",
    "model.fit(x_poly,y)#PUT PARAMETERS CODE HERE)\n",
    "    \n",
    "# COMPUTE PREDICTIONS\n",
    "y_poly_pred_20 = model.predict(x_poly)#PUT YOUR CODE HERE\n",
    "\n",
    "print('R2 for this prediction is: {:.2f}'.format(r2_score(y,y_poly_pred_20)))\n",
    "print('rmse for this prediction is: {:.2f}'.format(np.sqrt(mse(y,y_poly_pred_20))))"
   ]
  },
  {
   "cell_type": "code",
   "execution_count": 29,
   "metadata": {},
   "outputs": [
    {
     "data": {
      "image/png": "[encoded data removed]",
      "text/plain": [
       "<Figure size 432x288 with 1 Axes>"
      ]
     },
     "metadata": {
      "needs_background": "light"
     },
     "output_type": "display_data"
    }
   ],
   "source": [
    "## Degree 20 \n",
    "plt.scatter(x, y, s=10)\n",
    "# sort the values of x before line plot\n",
    "sort_axis = operator.itemgetter(0)\n",
    "sorted_zip = sorted(zip(x,y_poly_pred_20), key=sort_axis)\n",
    "x, y_poly_pred_20 = zip(*sorted_zip)\n",
    "plt.plot(x, y_poly_pred_20, color='g')\n",
    "plt.show()"
   ]
  },
  {
   "cell_type": "markdown",
   "metadata": {},
   "source": [
    "For degree=20, the model is also capturing the noise in the data. This is an example of *over-fitting*. Even though this model passes through most of the data, it will fail to generalize on unseen data.\n",
    "\n",
    "To prevent *over-fitting*, we can add more training samples so that the algorithm doesn’t learn the noise in the system and can become more generalized.\n",
    "How do we choose an optimal model? To answer this question we need to understand the bias vs variance trade-off."
   ]
  },
  {
   "cell_type": "markdown",
   "metadata": {},
   "source": [
    "## Variance vs Bias trade-off"
   ]
  },
  {
   "cell_type": "markdown",
   "metadata": {},
   "source": [
    "*Bias* refers to the error due to the model’s simplistic assumptions in fitting the data. A high bias means that the model is unable to capture the patterns in the data and this results in under-fitting.\n",
    "\n",
    "*Variance* refers to the error due to the complex model trying to fit the data. High variance means the model passes through most of the data points and it results in over-fitting the data.\n",
    "\n",
    "The below picture summarizes our learning.\n",
    "\n",
    "<img src=\"https://miro.medium.com/max/1946/1*zOl_ztYqnzyWRkBffeOsRQ.png\">"
   ]
  },
  {
   "cell_type": "markdown",
   "metadata": {},
   "source": [
    "From the below picture we can observe that as the model complexity increases, the bias decreases and the variance increases and vice-versa. Ideally, a machine learning model should have low variance and low bias. But practically it’s impossible to have both. Therefore to achieve a good model that performs well both on the train and unseen data, a trade-off is made. Source: http://scott.fortmann-roe.com/docs/BiasVariance.html\n",
    "\n",
    "<img src=\"http://scott.fortmann-roe.com/docs/docs/BiasVariance/biasvariance.png\">"
   ]
  },
  {
   "cell_type": "markdown",
   "metadata": {},
   "source": [
    "Think about the behaviour of our metrics to evaluate the performance of the algorithm. Which ways could we use to control if our model is actually performing better?"
   ]
  },
  {
   "cell_type": "markdown",
   "metadata": {},
   "source": [
    "## The Boston Housing Dataset"
   ]
  },
  {
   "cell_type": "code",
   "execution_count": 30,
   "metadata": {},
   "outputs": [],
   "source": [
    "import matplotlib.pyplot as plt\n",
    "import seaborn as sns\n",
    "import numpy as np\n",
    "import pandas as pd\n",
    "from sklearn import datasets, linear_model\n",
    "from sklearn.metrics import mean_squared_error, r2_score"
   ]
  },
  {
   "cell_type": "code",
   "execution_count": 31,
   "metadata": {},
   "outputs": [
    {
     "data": {
      "application/javascript": [
       "IPython.OutputArea.prototype._should_scroll = function(lines) {\n",
       "    return false;\n",
       "}\n"
      ],
      "text/plain": [
       "<IPython.core.display.Javascript object>"
      ]
     },
     "metadata": {},
     "output_type": "display_data"
    }
   ],
   "source": [
    "%%javascript\n",
    "IPython.OutputArea.prototype._should_scroll = function(lines) {\n",
    "    return false;\n",
    "}"
   ]
  },
  {
   "cell_type": "code",
   "execution_count": 32,
   "metadata": {},
   "outputs": [],
   "source": [
    "# Load the diabetes dataset\n",
    "boston_ds = datasets.load_boston()"
   ]
  },
  {
   "cell_type": "code",
   "execution_count": 33,
   "metadata": {},
   "outputs": [
    {
     "name": "stdout",
     "output_type": "stream",
     "text": [
      ".. _boston_dataset:\n",
      "\n",
      "Boston house prices dataset\n",
      "---------------------------\n",
      "\n",
      "**Data Set Characteristics:**  \n",
      "\n",
      "    :Number of Instances: 506 \n",
      "\n",
      "    :Number of Attributes: 13 numeric/categorical predictive. Median Value (attribute 14) is usually the target.\n",
      "\n",
      "    :Attribute Information (in order):\n",
      "        - CRIM     per capita crime rate by town\n",
      "        - ZN       proportion of residential land zoned for lots over 25,000 sq.ft.\n",
      "        - INDUS    proportion of non-retail business acres per town\n",
      "        - CHAS     Charles River dummy variable (= 1 if tract bounds river; 0 otherwise)\n",
      "        - NOX      nitric oxides concentration (parts per 10 million)\n",
      "        - RM       average number of rooms per dwelling\n",
      "        - AGE      proportion of owner-occupied units built prior to 1940\n",
      "        - DIS      weighted distances to five Boston employment centres\n",
      "        - RAD      index of accessibility to radial highways\n",
      "        - TAX      full-value property-tax rate per $10,000\n",
      "        - PTRATIO  pupil-teacher ratio by town\n",
      "        - B        1000(Bk - 0.63)^2 where Bk is the proportion of blacks by town\n",
      "        - LSTAT    % lower status of the population\n",
      "        - MEDV     Median value of owner-occupied homes in $1000's\n",
      "\n",
      "    :Missing Attribute Values: None\n",
      "\n",
      "    :Creator: Harrison, D. and Rubinfeld, D.L.\n",
      "\n",
      "This is a copy of UCI ML housing dataset.\n",
      "https://archive.ics.uci.edu/ml/machine-learning-databases/housing/\n",
      "\n",
      "\n",
      "This dataset was taken from the StatLib library which is maintained at Carnegie Mellon University.\n",
      "\n",
      "The Boston house-price data of Harrison, D. and Rubinfeld, D.L. 'Hedonic\n",
      "prices and the demand for clean air', J. Environ. Economics & Management,\n",
      "vol.5, 81-102, 1978.   Used in Belsley, Kuh & Welsch, 'Regression diagnostics\n",
      "...', Wiley, 1980.   N.B. Various transformations are used in the table on\n",
      "pages 244-261 of the latter.\n",
      "\n",
      "The Boston house-price data has been used in many machine learning papers that address regression\n",
      "problems.   \n",
      "     \n",
      ".. topic:: References\n",
      "\n",
      "   - Belsley, Kuh & Welsch, 'Regression diagnostics: Identifying Influential Data and Sources of Collinearity', Wiley, 1980. 244-261.\n",
      "   - Quinlan,R. (1993). Combining Instance-Based and Model-Based Learning. In Proceedings on the Tenth International Conference of Machine Learning, 236-243, University of Massachusetts, Amherst. Morgan Kaufmann.\n",
      "\n"
     ]
    }
   ],
   "source": [
    "print(boston_ds.DESCR)"
   ]
  },
  {
   "cell_type": "code",
   "execution_count": 34,
   "metadata": {},
   "outputs": [
    {
     "data": {
      "text/html": [
       "<div>\n",
       "<style scoped>\n",
       "    .dataframe tbody tr th:only-of-type {\n",
       "        vertical-align: middle;\n",
       "    }\n",
       "\n",
       "    .dataframe tbody tr th {\n",
       "        vertical-align: top;\n",
       "    }\n",
       "\n",
       "    .dataframe thead th {\n",
       "        text-align: right;\n",
       "    }\n",
       "</style>\n",
       "<table border=\"1\" class=\"dataframe\">\n",
       "  <thead>\n",
       "    <tr style=\"text-align: right;\">\n",
       "      <th></th>\n",
       "      <th>CRIM</th>\n",
       "      <th>ZN</th>\n",
       "      <th>INDUS</th>\n",
       "      <th>CHAS</th>\n",
       "      <th>NOX</th>\n",
       "      <th>RM</th>\n",
       "      <th>AGE</th>\n",
       "      <th>DIS</th>\n",
       "      <th>RAD</th>\n",
       "      <th>TAX</th>\n",
       "      <th>PTRATIO</th>\n",
       "      <th>B</th>\n",
       "      <th>LSTAT</th>\n",
       "      <th>MEDV</th>\n",
       "    </tr>\n",
       "  </thead>\n",
       "  <tbody>\n",
       "    <tr>\n",
       "      <td>0</td>\n",
       "      <td>0.00632</td>\n",
       "      <td>18.0</td>\n",
       "      <td>2.31</td>\n",
       "      <td>0.0</td>\n",
       "      <td>0.538</td>\n",
       "      <td>6.575</td>\n",
       "      <td>65.2</td>\n",
       "      <td>4.0900</td>\n",
       "      <td>1.0</td>\n",
       "      <td>296.0</td>\n",
       "      <td>15.3</td>\n",
       "      <td>396.90</td>\n",
       "      <td>4.98</td>\n",
       "      <td>24.0</td>\n",
       "    </tr>\n",
       "    <tr>\n",
       "      <td>1</td>\n",
       "      <td>0.02731</td>\n",
       "      <td>0.0</td>\n",
       "      <td>7.07</td>\n",
       "      <td>0.0</td>\n",
       "      <td>0.469</td>\n",
       "      <td>6.421</td>\n",
       "      <td>78.9</td>\n",
       "      <td>4.9671</td>\n",
       "      <td>2.0</td>\n",
       "      <td>242.0</td>\n",
       "      <td>17.8</td>\n",
       "      <td>396.90</td>\n",
       "      <td>9.14</td>\n",
       "      <td>21.6</td>\n",
       "    </tr>\n",
       "    <tr>\n",
       "      <td>2</td>\n",
       "      <td>0.02729</td>\n",
       "      <td>0.0</td>\n",
       "      <td>7.07</td>\n",
       "      <td>0.0</td>\n",
       "      <td>0.469</td>\n",
       "      <td>7.185</td>\n",
       "      <td>61.1</td>\n",
       "      <td>4.9671</td>\n",
       "      <td>2.0</td>\n",
       "      <td>242.0</td>\n",
       "      <td>17.8</td>\n",
       "      <td>392.83</td>\n",
       "      <td>4.03</td>\n",
       "      <td>34.7</td>\n",
       "    </tr>\n",
       "    <tr>\n",
       "      <td>3</td>\n",
       "      <td>0.03237</td>\n",
       "      <td>0.0</td>\n",
       "      <td>2.18</td>\n",
       "      <td>0.0</td>\n",
       "      <td>0.458</td>\n",
       "      <td>6.998</td>\n",
       "      <td>45.8</td>\n",
       "      <td>6.0622</td>\n",
       "      <td>3.0</td>\n",
       "      <td>222.0</td>\n",
       "      <td>18.7</td>\n",
       "      <td>394.63</td>\n",
       "      <td>2.94</td>\n",
       "      <td>33.4</td>\n",
       "    </tr>\n",
       "    <tr>\n",
       "      <td>4</td>\n",
       "      <td>0.06905</td>\n",
       "      <td>0.0</td>\n",
       "      <td>2.18</td>\n",
       "      <td>0.0</td>\n",
       "      <td>0.458</td>\n",
       "      <td>7.147</td>\n",
       "      <td>54.2</td>\n",
       "      <td>6.0622</td>\n",
       "      <td>3.0</td>\n",
       "      <td>222.0</td>\n",
       "      <td>18.7</td>\n",
       "      <td>396.90</td>\n",
       "      <td>5.33</td>\n",
       "      <td>36.2</td>\n",
       "    </tr>\n",
       "  </tbody>\n",
       "</table>\n",
       "</div>"
      ],
      "text/plain": [
       "      CRIM    ZN  INDUS  CHAS    NOX     RM   AGE     DIS  RAD    TAX  \\\n",
       "0  0.00632  18.0   2.31   0.0  0.538  6.575  65.2  4.0900  1.0  296.0   \n",
       "1  0.02731   0.0   7.07   0.0  0.469  6.421  78.9  4.9671  2.0  242.0   \n",
       "2  0.02729   0.0   7.07   0.0  0.469  7.185  61.1  4.9671  2.0  242.0   \n",
       "3  0.03237   0.0   2.18   0.0  0.458  6.998  45.8  6.0622  3.0  222.0   \n",
       "4  0.06905   0.0   2.18   0.0  0.458  7.147  54.2  6.0622  3.0  222.0   \n",
       "\n",
       "   PTRATIO       B  LSTAT  MEDV  \n",
       "0     15.3  396.90   4.98  24.0  \n",
       "1     17.8  396.90   9.14  21.6  \n",
       "2     17.8  392.83   4.03  34.7  \n",
       "3     18.7  394.63   2.94  33.4  \n",
       "4     18.7  396.90   5.33  36.2  "
      ]
     },
     "execution_count": 34,
     "metadata": {},
     "output_type": "execute_result"
    }
   ],
   "source": [
    "boston = pd.DataFrame(boston_ds.data, columns=boston_ds.feature_names)\n",
    "boston['MEDV'] = boston_ds.target\n",
    "boston.head()"
   ]
  },
  {
   "cell_type": "markdown",
   "metadata": {},
   "source": [
    "### Simple Linear Regression Model"
   ]
  },
  {
   "cell_type": "markdown",
   "metadata": {},
   "source": [
    "Load the Boston Housing Dataset, and prepare train and test splits X_train, Y_train, X_test, Y_test"
   ]
  },
  {
   "cell_type": "code",
   "execution_count": 35,
   "metadata": {},
   "outputs": [],
   "source": [
    "X = boston[['LSTAT']]\n",
    "Y = boston['MEDV']"
   ]
  },
  {
   "cell_type": "markdown",
   "metadata": {},
   "source": [
    "Split the data into training and testing sets. We train the model with 80% of the samples and test with the remaining 20%. We do this to assess the model’s performance on unseen data. To split the data you may use scikit-learn library. Set random_state=5"
   ]
  },
  {
   "cell_type": "code",
   "execution_count": 36,
   "metadata": {},
   "outputs": [
    {
     "name": "stdout",
     "output_type": "stream",
     "text": [
      "(404, 1)\n",
      "(102, 1)\n",
      "(404,)\n",
      "(102,)\n"
     ]
    }
   ],
   "source": [
    "from sklearn.model_selection import train_test_split\n",
    "\n",
    "X_train, X_test, Y_train, Y_test = train_test_split(X, Y, test_size = 0.2, random_state=5)\n",
    "print(X_train.shape)\n",
    "print(X_test.shape)\n",
    "print(Y_train.shape)\n",
    "print(Y_test.shape)"
   ]
  },
  {
   "cell_type": "code",
   "execution_count": 37,
   "metadata": {},
   "outputs": [
    {
     "data": {
      "text/plain": [
       "LinearRegression(copy_X=True, fit_intercept=True, n_jobs=None, normalize=False)"
      ]
     },
     "execution_count": 37,
     "metadata": {},
     "output_type": "execute_result"
    }
   ],
   "source": [
    "from sklearn.linear_model import LinearRegression\n",
    "from sklearn.metrics import mean_squared_error\n",
    "\n",
    "lin_model = LinearRegression()\n",
    "lin_model.fit(X_train, Y_train)"
   ]
  },
  {
   "cell_type": "markdown",
   "metadata": {},
   "source": [
    "### Polynomial Regression Model"
   ]
  },
  {
   "cell_type": "code",
   "execution_count": 38,
   "metadata": {},
   "outputs": [],
   "source": [
    "from sklearn.preprocessing import PolynomialFeatures\n",
    "\n",
    "def create_polynomial_regression_model(degree, verbose = True, text_out=True):\n",
    "    \n",
    "    \"Creates a polynomial regression model for the given degree\"\n",
    "\n",
    "    poly_features = PolynomialFeatures(degree=degree)\n",
    "\n",
    "    # transforms the existing features to higher degree features.\n",
    "    X_train_poly = poly_features.fit_transform(X_train)\n",
    "\n",
    "    # fit the transformed features to Linear Regression\n",
    "    poly_model = LinearRegression()\n",
    "    poly_model.fit(X_train_poly, Y_train)        \n",
    "\n",
    "    y_poly_pred = poly_model.predict(X_train_poly)\n",
    "\n",
    "    # predicting on training data-set\n",
    "    y_train_predicted = poly_model.predict(X_train_poly)\n",
    "\n",
    "\n",
    "    ##########################################\n",
    "    ##########################################\n",
    "    if X_train.shape[1] == 1:\n",
    "        import operator\n",
    "        plt.scatter(X_train, Y_train, s=10)\n",
    "        x = np.array(X_train.iloc[:,0])\n",
    "        x = x[:, np.newaxis]\n",
    "        y = Y_train[:, np.newaxis]\n",
    "\n",
    "        plt.scatter(x, y, s=10)\n",
    "        # sort the values of x before line plot\n",
    "        sort_axis = operator.itemgetter(0)\n",
    "        sorted_zip = sorted(zip(x,y_train_predicted), key=sort_axis)\n",
    "        x, y_train_predicted = zip(*sorted_zip)\n",
    "        plt.plot(x, y_train_predicted, color='b')\n",
    "        plt.title(\"RM vs MEDV (Training set)\")\n",
    "        plt.xlabel(\"RM\")\n",
    "        plt.ylabel(\"MEDV\")\n",
    "        plt.show()\n",
    "        plt.show()\n",
    "    ##########################################\n",
    "    ##########################################\n",
    "    # predicting on test data-set\n",
    "    y_test_predict = poly_model.predict(poly_features.fit_transform(X_test))\n",
    "\n",
    "    # evaluating the model on training dataset\n",
    "    rmse_train = np.sqrt(mean_squared_error(Y_train, y_train_predicted))\n",
    "    r2_train = r2_score(Y_train, y_train_predicted)\n",
    "\n",
    "    # evaluating the model on test dataset\n",
    "    rmse_test = np.sqrt(mean_squared_error(Y_test, y_test_predict))\n",
    "    r2_test = r2_score(Y_test, y_test_predict)\n",
    "    \n",
    "    \n",
    "    if text_out:\n",
    "        print(\"The model performance for the training set\")\n",
    "        print(\"-------------------------------------------\")\n",
    "        print(\"RMSE of training set is {}\".format(rmse_train))\n",
    "        print(\"R2 score of training set is {}\".format(r2_train))\n",
    "\n",
    "        print(\"\\n\")\n",
    "\n",
    "        print(\"The model performance for the test set\")\n",
    "        print(\"-------------------------------------------\")\n",
    "        print(\"RMSE of test set is {}\".format(rmse_test))\n",
    "        print(\"R2 score of test set is {}\".format(r2_test))\n",
    "    return (rmse_train, rmse_test)"
   ]
  },
  {
   "cell_type": "markdown",
   "metadata": {},
   "source": [
    "### Try with multiple degrees and observe how the fitting line change\n",
    "\n",
    "\n",
    "\n"
   ]
  },
  {
   "cell_type": "code",
   "execution_count": 39,
   "metadata": {},
   "outputs": [
    {
     "data": {
      "image/png": "[encoded data removed]",
      "text/plain": [
       "<Figure size 432x288 with 1 Axes>"
      ]
     },
     "metadata": {
      "needs_background": "light"
     },
     "output_type": "display_data"
    },
    {
     "data": {
      "text/plain": [
       "(11.824840903390214, 5.3323156566215575)"
      ]
     },
     "execution_count": 39,
     "metadata": {},
     "output_type": "execute_result"
    }
   ],
   "source": [
    "create_polynomial_regression_model(2, text_out=False)"
   ]
  },
  {
   "cell_type": "code",
   "execution_count": 40,
   "metadata": {},
   "outputs": [
    {
     "data": {
      "image/png": "[encoded data removed]",
      "text/plain": [
       "<Figure size 432x288 with 1 Axes>"
      ]
     },
     "metadata": {
      "needs_background": "light"
     },
     "output_type": "display_data"
    },
    {
     "data": {
      "text/plain": [
       "(10.465598359133853, 69.91507612632348)"
      ]
     },
     "execution_count": 40,
     "metadata": {},
     "output_type": "execute_result"
    }
   ],
   "source": [
    "create_polynomial_regression_model(20, text_out=False)"
   ]
  },
  {
   "cell_type": "markdown",
   "metadata": {},
   "source": [
    "**Describe the above plots**"
   ]
  },
  {
   "cell_type": "markdown",
   "metadata": {},
   "source": [
    "## Implement multiple Multivariate models and study the trend of the training and test error"
   ]
  },
  {
   "cell_type": "code",
   "execution_count": 41,
   "metadata": {},
   "outputs": [
    {
     "name": "stdout",
     "output_type": "stream",
     "text": [
      "(404, 2)\n",
      "(102, 2)\n",
      "(404,)\n",
      "(102,)\n"
     ]
    }
   ],
   "source": [
    "X = boston[['LSTAT','RM']]\n",
    "Y = boston['MEDV']\n",
    "\n",
    "# Split training and test\n",
    "\n",
    "X_train, X_test, Y_train, Y_test = train_test_split(X, Y, test_size = 0.2, random_state=5)# PUT YOU CODE HERE\n",
    "print(X_train.shape)\n",
    "print(X_test.shape)\n",
    "print(Y_train.shape)\n",
    "print(Y_test.shape)\n",
    "\n"
   ]
  },
  {
   "cell_type": "markdown",
   "metadata": {},
   "source": [
    "### Linear Regression"
   ]
  },
  {
   "cell_type": "code",
   "execution_count": 24,
   "metadata": {},
   "outputs": [
    {
     "name": "stdout",
     "output_type": "stream",
     "text": [
      "The model performance for the training set\n",
      "-------------------------------------------\n",
      "RMSE: 5.6371293350711955\n",
      "R2 Score: 0.6300745149331701\n",
      "\n",
      "\n",
      "The model performance for the test set\n",
      "-------------------------------------------\n",
      "RMSE: 5.137400784702911\n",
      "R2 Score: 0.6628996975186953\n"
     ]
    }
   ],
   "source": [
    "# CLASSICAL LINEAR REGRESSION (Degree 1)\n",
    "# PUT YOU CODE HERE\n",
    "\n"
   ]
  },
  {
   "cell_type": "code",
   "execution_count": 42,
   "metadata": {},
   "outputs": [
    {
     "name": "stdout",
     "output_type": "stream",
     "text": [
      "The model performance for the training set\n",
      "-------------------------------------------\n",
      "RMSE of training set is 5.6371293350711955\n",
      "R2 score of training set is 0.6300745149331701\n",
      "\n",
      "\n",
      "The model performance for the test set\n",
      "-------------------------------------------\n",
      "RMSE of test set is 5.13740078470291\n",
      "R2 score of test set is 0.6628996975186954\n"
     ]
    },
    {
     "data": {
      "text/plain": [
       "(5.6371293350711955, 5.13740078470291)"
      ]
     },
     "execution_count": 42,
     "metadata": {},
     "output_type": "execute_result"
    }
   ],
   "source": [
    "create_polynomial_regression_model(1, text_out=True)"
   ]
  },
  {
   "cell_type": "markdown",
   "metadata": {},
   "source": [
    "### Polynomial Regression"
   ]
  },
  {
   "cell_type": "code",
   "execution_count": 43,
   "metadata": {},
   "outputs": [
    {
     "name": "stdout",
     "output_type": "stream",
     "text": [
      "The model performance for the training set\n",
      "-------------------------------------------\n",
      "RMSE of training set is 4.703071027847756\n",
      "R2 score of training set is 0.7425094297364765\n",
      "\n",
      "\n",
      "The model performance for the test set\n",
      "-------------------------------------------\n",
      "RMSE of test set is 3.784819884545044\n",
      "R2 score of test set is 0.8170372495892174\n"
     ]
    },
    {
     "data": {
      "text/plain": [
       "(4.703071027847756, 3.784819884545044)"
      ]
     },
     "execution_count": 43,
     "metadata": {},
     "output_type": "execute_result"
    }
   ],
   "source": [
    "create_polynomial_regression_model(2)"
   ]
  },
  {
   "cell_type": "markdown",
   "metadata": {},
   "source": [
    "### Iplement multiple polynomial models using the above function ```create_polynomial_regression_model``` and observe the trend of the training and test errors\n",
    "\n",
    "- Note that the function returns a pair **(training_error, test_error)**"
   ]
  },
  {
   "cell_type": "code",
   "execution_count": 64,
   "metadata": {},
   "outputs": [
    {
     "name": "stdout",
     "output_type": "stream",
     "text": [
      "The model performance for the training set\n",
      "-------------------------------------------\n",
      "RMSE of training set is 5.6371293350711955\n",
      "R2 score of training set is 0.6300745149331701\n",
      "\n",
      "\n",
      "The model performance for the test set\n",
      "-------------------------------------------\n",
      "RMSE of test set is 5.13740078470291\n",
      "R2 score of test set is 0.6628996975186954\n",
      "The model performance for the training set\n",
      "-------------------------------------------\n",
      "RMSE of training set is 4.703071027847756\n",
      "R2 score of training set is 0.7425094297364765\n",
      "\n",
      "\n",
      "The model performance for the test set\n",
      "-------------------------------------------\n",
      "RMSE of test set is 3.784819884545044\n",
      "R2 score of test set is 0.8170372495892174\n",
      "The model performance for the training set\n",
      "-------------------------------------------\n",
      "RMSE of training set is 4.532072326616824\n",
      "R2 score of training set is 0.7608932051918329\n",
      "\n",
      "\n",
      "The model performance for the test set\n",
      "-------------------------------------------\n",
      "RMSE of test set is 3.8691974071830573\n",
      "R2 score of test set is 0.8087884936139147\n",
      "The model performance for the training set\n",
      "-------------------------------------------\n",
      "RMSE of training set is 4.276081212074235\n",
      "R2 score of training set is 0.7871419186085669\n",
      "\n",
      "\n",
      "The model performance for the test set\n",
      "-------------------------------------------\n",
      "RMSE of test set is 3.8885945978984418\n",
      "R2 score of test set is 0.8068665120648728\n",
      "The model performance for the training set\n",
      "-------------------------------------------\n",
      "RMSE of training set is 4.121480266467391\n",
      "R2 score of training set is 0.8022553678436111\n",
      "\n",
      "\n",
      "The model performance for the test set\n",
      "-------------------------------------------\n",
      "RMSE of test set is 3.856148659154831\n",
      "R2 score of test set is 0.8100760285884752\n",
      "The model performance for the training set\n",
      "-------------------------------------------\n",
      "RMSE of training set is 8.690718804500467\n",
      "R2 score of training set is 0.12075552080326546\n",
      "\n",
      "\n",
      "The model performance for the test set\n",
      "-------------------------------------------\n",
      "RMSE of test set is 14.880663034058166\n",
      "R2 score of test set is -1.828243590431979\n",
      "The model performance for the training set\n",
      "-------------------------------------------\n",
      "RMSE of training set is 3.975759544816777\n",
      "R2 score of training set is 0.8159912503943155\n",
      "\n",
      "\n",
      "The model performance for the test set\n",
      "-------------------------------------------\n",
      "RMSE of test set is 4.64612607427768\n",
      "R2 score of test set is 0.7242889148881066\n",
      "The model performance for the training set\n",
      "-------------------------------------------\n",
      "RMSE of training set is 3.9840285324286056\n",
      "R2 score of training set is 0.8152250328355457\n",
      "\n",
      "\n",
      "The model performance for the test set\n",
      "-------------------------------------------\n",
      "RMSE of test set is 24.145239766886984\n",
      "R2 score of test set is -6.4462101956153655\n",
      "The model performance for the training set\n",
      "-------------------------------------------\n",
      "RMSE of training set is 3.934048480364066\n",
      "R2 score of training set is 0.819831995358544\n",
      "\n",
      "\n",
      "The model performance for the test set\n",
      "-------------------------------------------\n",
      "RMSE of test set is 11.351185005313553\n",
      "R2 score of test set is -0.6457150880028673\n"
     ]
    }
   ],
   "source": [
    "errors_train_test = []\n",
    "# PUT YOU CODE HERE\n",
    "for i in range(1,10):\n",
    "    errors_train_test.append(create_polynomial_regression_model(i))"
   ]
  },
  {
   "cell_type": "code",
   "execution_count": 65,
   "metadata": {},
   "outputs": [
    {
     "data": {
      "text/plain": [
       "[(5.6371293350711955, 5.13740078470291),\n",
       " (4.703071027847756, 3.784819884545044),\n",
       " (4.532072326616824, 3.8691974071830573),\n",
       " (4.276081212074235, 3.8885945978984418),\n",
       " (4.121480266467391, 3.856148659154831),\n",
       " (8.690718804500467, 14.880663034058166),\n",
       " (3.975759544816777, 4.64612607427768),\n",
       " (3.9840285324286056, 24.145239766886984),\n",
       " (3.934048480364066, 11.351185005313553)]"
      ]
     },
     "execution_count": 65,
     "metadata": {},
     "output_type": "execute_result"
    }
   ],
   "source": [
    "errors_train_test"
   ]
  },
  {
   "cell_type": "code",
   "execution_count": 66,
   "metadata": {},
   "outputs": [],
   "source": [
    "errors_train = [i[0] for i in errors_train_test]\n",
    "errors_test = [i[1] for i in errors_train_test]\n",
    "x = range(1,len(errors_train_test)+1)"
   ]
  },
  {
   "cell_type": "code",
   "execution_count": 67,
   "metadata": {},
   "outputs": [
    {
     "data": {
      "text/plain": [
       "<matplotlib.legend.Legend at 0x7f14448f7160>"
      ]
     },
     "execution_count": 67,
     "metadata": {},
     "output_type": "execute_result"
    },
    {
     "data": {
      "image/png": "[encoded data removed]",
      "text/plain": [
       "<Figure size 432x288 with 1 Axes>"
      ]
     },
     "metadata": {
      "needs_background": "light"
     },
     "output_type": "display_data"
    }
   ],
   "source": [
    "import matplotlib.pyplot as plt\n",
    "\n",
    "plt.plot(x,errors_train,label='Train')\n",
    "plt.plot(x,errors_test,label='Test')\n",
    "plt.legend()"
   ]
  },
  {
   "cell_type": "code",
   "execution_count": null,
   "metadata": {},
   "outputs": [],
   "source": [
    "# Describe the above plot"
   ]
  }
 ],
 "metadata": {
  "kernelspec": {
   "display_name": "Python 3",
   "language": "python",
   "name": "python3"
  },
  "language_info": {
   "codemirror_mode": {
    "name": "ipython",
    "version": 3
   },
   "file_extension": ".py",
   "mimetype": "text/x-python",
   "name": "python",
   "nbconvert_exporter": "python",
   "pygments_lexer": "ipython3",
   "version": "3.6.7"
  }
 },
 "nbformat": 4,
 "nbformat_minor": 2
}
